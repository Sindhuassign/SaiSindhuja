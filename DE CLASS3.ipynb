{
 "cells": [
  {
   "cell_type": "code",
   "execution_count": 2,
   "id": "799fd105",
   "metadata": {},
   "outputs": [
    {
     "name": "stdout",
     "output_type": "stream",
     "text": [
      "enter input in the format of yyyymm202209\n",
      "{'Previous_month': '20228', 'Previous_quarter': 'Q2_2022', 'Future_month': '2023_8', 'Present_quarter': 'Q3_2022'}\n"
     ]
    }
   ],
   "source": [
    "sai_1 = input(\"enter input in the format of yyyymm\")\n",
    "\n",
    "def fun_main(sai_1):\n",
    "    \n",
    "    current_month = sai_1[4:]\n",
    "    current_year = sai_1[:4]\n",
    "    dict_s = {}\n",
    "    previous_month = int(current_month)-1\n",
    "    future_month = int(current_month)+1\n",
    "    previous_quarter = fun1(int(current_month)-3)\n",
    "    present_quarter = fun1(int(current_month))\n",
    "    future_quarter = fun1(int(current_month)+3)\n",
    "    dict_s[\"Previous_month\"] = str(current_year)+\"\"+str(previous_month)\n",
    "    dict_s[\"Previous_quarter\"] = previous_quarter+\"_\"+str(current_year)\n",
    "    dict_s[\"Future_month\"] = str(int(current_year)+1)+\"_\"+\"\"+str(previous_month)\n",
    "    dict_s[\"Present_quarter\"] = (str(present_quarter)+\"_\"+current_year)\n",
    "    previous_quarter = fun1(int(current_month)-3)\n",
    "    present_quarter = fun1(int(current_month))\n",
    "    future_quarter = fun1(int(current_month)+3)\n",
    "    print(dict_s)\n",
    "\n",
    "def fun1(current_month):\n",
    "    \n",
    "    if(int(current_month))<=3 or int((current_month))>12:\n",
    "        n_var_previous = \"Q1\"\n",
    "    elif(int(current_month))>3 and int((current_month))<=6:\n",
    "        n_var_previous = \"Q2\"\n",
    "    elif(int(current_month))>6 and int((current_month))<=9:\n",
    "        n_var_previous = \"Q3\"\n",
    "    else:\n",
    "        n_var_previous = \"Q4\"\n",
    "        \n",
    "    return n_var_previous\n",
    "\n",
    "fun_main(sai_1)"
   ]
  },
  {
   "cell_type": "code",
   "execution_count": null,
   "id": "051a2380",
   "metadata": {},
   "outputs": [],
   "source": []
  }
 ],
 "metadata": {
  "kernelspec": {
   "display_name": "Python 3 (ipykernel)",
   "language": "python",
   "name": "python3"
  },
  "language_info": {
   "codemirror_mode": {
    "name": "ipython",
    "version": 3
   },
   "file_extension": ".py",
   "mimetype": "text/x-python",
   "name": "python",
   "nbconvert_exporter": "python",
   "pygments_lexer": "ipython3",
   "version": "3.9.13"
  }
 },
 "nbformat": 4,
 "nbformat_minor": 5
}
