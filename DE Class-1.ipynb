{
 "cells": [
  {
   "cell_type": "code",
   "execution_count": 1,
   "id": "a5a5358a",
   "metadata": {},
   "outputs": [
    {
     "name": "stdout",
     "output_type": "stream",
     "text": [
      "['SaiV', 'VarshikaD', 'SangeethaR', 'JyothsnaD']\n"
     ]
    }
   ],
   "source": [
    "list_fn = [\"Sai\", \"Varshika\", \"Sangeetha\", \"Jyothsna\"]\n",
    "list_ln = [\"V\", \"D\", \"R\", \"D\"]\n",
    "x = []\n",
    "for i in list_fn:\n",
    "    for j in list_ln:\n",
    "        x.append(i+j)\n",
    "        list_ln.remove(j)\n",
    "        break\n",
    "print(x)\n",
    "        "
   ]
  },
  {
   "cell_type": "code",
   "execution_count": 2,
   "id": "40ebcb9a",
   "metadata": {},
   "outputs": [
    {
     "name": "stdout",
     "output_type": "stream",
     "text": [
      "['applerose', 'bananajasmine', 'orangetulip']\n"
     ]
    }
   ],
   "source": [
    "list_fruits = [\"apple\", \"banana\", \"orange\"]\n",
    "list_flowers = [\"rose\", \"jasmine\", \"tulip\"]\n",
    "\n",
    "k = []\n",
    "for i in list_fruits:\n",
    "    for j in list_flowers:\n",
    "        k.append(i+j)\n",
    "        list_flowers.remove(j)\n",
    "        break\n",
    "print(k)        \n",
    "               "
   ]
  },
  {
   "cell_type": "code",
   "execution_count": null,
   "id": "405f3a55",
   "metadata": {},
   "outputs": [],
   "source": []
  }
 ],
 "metadata": {
  "kernelspec": {
   "display_name": "Python 3 (ipykernel)",
   "language": "python",
   "name": "python3"
  },
  "language_info": {
   "codemirror_mode": {
    "name": "ipython",
    "version": 3
   },
   "file_extension": ".py",
   "mimetype": "text/x-python",
   "name": "python",
   "nbconvert_exporter": "python",
   "pygments_lexer": "ipython3",
   "version": "3.9.13"
  }
 },
 "nbformat": 4,
 "nbformat_minor": 5
}
